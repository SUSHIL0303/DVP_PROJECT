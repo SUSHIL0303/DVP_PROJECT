{
 "cells": [
  {
   "cell_type": "code",
   "execution_count": 4,
   "id": "5ab2e82e",
   "metadata": {},
   "outputs": [
    {
     "name": "stdout",
     "output_type": "stream",
     "text": [
      "CSR data shape: (2121, 378)\n"
     ]
    }
   ],
   "source": [
    "MODELS_DIR = r\"C:\\Users\\SUSHIL KUMAR\\Desktop\\dvp_final\\models\"\n",
    "csr_data = scipy.sparse.load_npz(os.path.join(MODELS_DIR, \"csr_data.npz\"))\n",
    "print(\"CSR data shape:\", csr_data.shape)\n"
   ]
  }
 ],
 "metadata": {
  "kernelspec": {
   "display_name": "venv",
   "language": "python",
   "name": "python3"
  },
  "language_info": {
   "codemirror_mode": {
    "name": "ipython",
    "version": 3
   },
   "file_extension": ".py",
   "mimetype": "text/x-python",
   "name": "python",
   "nbconvert_exporter": "python",
   "pygments_lexer": "ipython3",
   "version": "3.10.11"
  }
 },
 "nbformat": 4,
 "nbformat_minor": 5
}
